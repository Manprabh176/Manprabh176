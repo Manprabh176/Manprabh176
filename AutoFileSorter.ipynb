{
 "cells": [
  {
   "cell_type": "code",
   "execution_count": 13,
   "id": "c66d66ca-af3f-4b3d-b697-7b75f4b062b8",
   "metadata": {},
   "outputs": [],
   "source": [
    "import os,shutil"
   ]
  },
  {
   "cell_type": "code",
   "execution_count": 14,
   "id": "dd3f9e3c-ce93-46cd-8d0a-08595b430d0c",
   "metadata": {},
   "outputs": [],
   "source": [
    "path=r\"C:/Users/HP/Downloads/test_run_folder/\""
   ]
  },
  {
   "cell_type": "code",
   "execution_count": 15,
   "id": "37c7c5d8-5347-47de-a7d5-6cbe3531f531",
   "metadata": {},
   "outputs": [],
   "source": [
    "file_name=os.listdir(path)"
   ]
  },
  {
   "cell_type": "code",
   "execution_count": 16,
   "id": "3053bb41-3bf3-4059-ae0c-3100c32ac714",
   "metadata": {},
   "outputs": [
    {
     "name": "stdout",
     "output_type": "stream",
     "text": [
      "C:/Users/HP/Downloads/test_run_folder/xlsx files\n",
      "C:/Users/HP/Downloads/test_run_folder/jpeg files\n",
      "C:/Users/HP/Downloads/test_run_folder/document_files\n"
     ]
    }
   ],
   "source": [
    "folder_names=[\"xlsx files\",\"jpeg files\",\"document_files\"]\n",
    "for i in range(0,3):\n",
    "    if not os.path.exists(path+folder_names[i]):\n",
    "        os.makedirs(path+folder_names[i])\n",
    "        print(path+folder_names[i])\n"
   ]
  },
  {
   "cell_type": "code",
   "execution_count": 17,
   "id": "2031be25-eca7-464f-80a2-415c6a066c53",
   "metadata": {},
   "outputs": [],
   "source": [
    "for file in file_name:\n",
    "    if \".xlsx\" in file and not os.path.exists(path+\"xlsx files/\"+file):\n",
    "        shutil.move(path+file,path+\"xlsx files/\" + file)\n",
    "    elif \".jpeg\" in file and not os.path.exists(path+\"jpeg files/\"+file):\n",
    "        shutil.move(path+file,path+\"jpeg files/\" + file)\n",
    "    elif \".pdf\"  in file and not os.path.exists(path+\"document_files/\"+file):\n",
    "        shutil.move(path+file,path+\"document_files/\" + file)"
   ]
  },
  {
   "cell_type": "code",
   "execution_count": 19,
   "id": "e40f98b3-16a2-415c-b9e3-279cf7c4a336",
   "metadata": {},
   "outputs": [
    {
     "ename": "SyntaxError",
     "evalue": "invalid syntax (2708690810.py, line 1)",
     "output_type": "error",
     "traceback": [
      "\u001b[1;36m  Cell \u001b[1;32mIn[19], line 1\u001b[1;36m\u001b[0m\n\u001b[1;33m    `nbconvert[webpdf]`\u001b[0m\n\u001b[1;37m    ^\u001b[0m\n\u001b[1;31mSyntaxError\u001b[0m\u001b[1;31m:\u001b[0m invalid syntax\n"
     ]
    }
   ],
   "source": [
    "`nbcon"
   ]
  },
  {
   "cell_type": "code",
   "execution_count": null,
   "id": "2627236d-9b82-4f41-98ba-0b97bc0f94e1",
   "metadata": {},
   "outputs": [],
   "source": []
  }
 ],
 "metadata": {
  "kernelspec": {
   "display_name": "Python 3 (ipykernel)",
   "language": "python",
   "name": "python3"
  },
  "language_info": {
   "codemirror_mode": {
    "name": "ipython",
    "version": 3
   },
   "file_extension": ".py",
   "mimetype": "text/x-python",
   "name": "python",
   "nbconvert_exporter": "python",
   "pygments_lexer": "ipython3",
   "version": "3.13.5"
  }
 },
 "nbformat": 4,
 "nbformat_minor": 5
}
